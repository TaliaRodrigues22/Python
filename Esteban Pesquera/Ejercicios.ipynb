{
 "cells": [
  {
   "cell_type": "code",
   "execution_count": 14,
   "metadata": {},
   "outputs": [
    {
     "name": "stdout",
     "output_type": "stream",
     "text": [
      "['hola']\n"
     ]
    }
   ],
   "source": [
    "#1 - Escriba un programa que permita crear una lista de palabras.\n",
    "#  Para ello, el programa tiene que pedir un número y luego solicitar ese número de palabras para crear la lista.\n",
    "#  Por último, el programa tiene que escribir la lista.\n",
    "\n",
    "num=int(input(\"Número de palabras:\"))\n",
    "\n",
    "lista1 = []\n",
    "\n",
    "for i in range(1,num+1):\n",
    "\n",
    "    lista1.append(input(\"Palabra:\"))\n",
    "\n",
    "print(lista1)"
   ]
  },
  {
   "cell_type": "code",
   "execution_count": 17,
   "metadata": {},
   "outputs": [
    {
     "name": "stdout",
     "output_type": "stream",
     "text": [
      "0\n"
     ]
    }
   ],
   "source": [
    "\n",
    "#2 - Escriba un programa que permita crear una lista de palabras y que\n",
    "# , a continuación, pida una palabra y diga cuántas veces aparece esa palabra en la lista.\n",
    "palabra=input(\"Ingrese una palabra:\")\n",
    "lista_palabras = [\"pera\",\"pera\",\"manzana\"]\n",
    "\n",
    "for i in lista_palabras:\n",
    "    lista = lista_palabras.count(palabra)\n",
    "print(lista)"
   ]
  },
  {
   "cell_type": "code",
   "execution_count": 7,
   "metadata": {},
   "outputs": [
    {
     "name": "stdout",
     "output_type": "stream",
     "text": [
      "['mango', 'banana', 'kiwi', 'pera', 'naranja', 'manzana']\n",
      "['mango', 'banana', 'kiwi', 'naranja', 'manzana']\n",
      "['mango', 'banana', 'kiwi', 'manzana']\n",
      "['pera', 'naranja', 'manzana']\n"
     ]
    }
   ],
   "source": [
    "# 5- Escriba un programa que permita crear dos listas de palabras y que, a continuación,\n",
    "#  elimine de la primera lista los nombres de la segunda lista.\n",
    "lista1 = [\"pera\",\"naranja\",\"manzana\"]\n",
    "lista2 = [\"mango\",\"banana\",\"kiwi\",\"pera\",\"naranja\",\"manzana\"]\n",
    "\n",
    "for i in lista1:\n",
    "    if i in lista2:\n",
    "        indice = lista2.index(i)\n",
    "        print(lista2)\n",
    "        lista2.pop(indice)\n",
    "print(lista1)\n",
    "\n",
    "\n"
   ]
  },
  {
   "cell_type": "code",
   "execution_count": 16,
   "metadata": {},
   "outputs": [
    {
     "name": "stdout",
     "output_type": "stream",
     "text": [
      "['kiwi', 'banana', 'mango', 'kiwi', 'banana', 'mango']\n"
     ]
    }
   ],
   "source": [
    "# 6- Escriba un programa que permita crear una lista de palabras y que, a continuación,\n",
    "#  cree una segunda lista igual a la primera, pero al revés\n",
    "#  (no se trata de escribir la lista al revés, sino de crear una lista distinta).\n",
    "\n",
    "lista3 = [\"mango\",\"banana\",\"kiwi\"]\n",
    "lista4.reverse()\n",
    "print(lista4)"
   ]
  },
  {
   "cell_type": "code",
   "execution_count": null,
   "metadata": {},
   "outputs": [],
   "source": [
    "\n",
    "# 3- Escriba un programa que permita crear una lista de palabras y que, a continuación,\n",
    "#  pida dos palabras y sustituya la primera por la segunda en la lista.\n",
    "num1 = int(input(\"Escriba cuantas palabras quiere tener su lista\"))\n",
    "\n",
    "i = 0\n",
    "\n",
    "lista1 = []\n",
    "\n",
    "\n",
    "while i < num1:\n",
    "    palabra1 = input(\"Escriba las  palabras, para crear una lista de palabras\")\n",
    "    lista1.append(palabra1)\n",
    "    i += 1\n",
    "\n",
    "\n",
    "palabra2 = input(\"Escriba la palabra a reemplazar\")\n",
    "\n",
    "indice = lista1.index(palabra2)\n",
    "\n",
    "palabra3 = input(\"Escriba la nueva palabra\")\n",
    "\n",
    "lista1.insert (indice, palabra3)\n",
    "lista1.remove (palabra2)\n",
    "\n",
    "print(lista1)"
   ]
  },
  {
   "cell_type": "code",
   "execution_count": null,
   "metadata": {},
   "outputs": [],
   "source": [
    "\n",
    "# 4- Escriba un programa que permita crear una lista de palabras y que,\n",
    "#  a continuación,\n",
    "#  pida una palabra y elimine esa palabra de la lista.\n",
    "\n",
    "lista=[\"rata\",\"caballo\",\"ave\",\"gato\",\"perro\"]\n",
    "print(lista)\n",
    "x=input(\"ingrese la palabra de la lista que quiera eliminar: \")\n",
    "lista.remove(x)\n",
    "print(lista)"
   ]
  }
 ],
 "metadata": {
  "kernelspec": {
   "display_name": "Python 3.10.5 64-bit",
   "language": "python",
   "name": "python3"
  },
  "language_info": {
   "codemirror_mode": {
    "name": "ipython",
    "version": 3
   },
   "file_extension": ".py",
   "mimetype": "text/x-python",
   "name": "python",
   "nbconvert_exporter": "python",
   "pygments_lexer": "ipython3",
   "version": "3.10.5"
  },
  "orig_nbformat": 4,
  "vscode": {
   "interpreter": {
    "hash": "98fa02a8c884382a90c52caa7e7b88891612be484f9b34d4c4e4bfd155aeec17"
   }
  }
 },
 "nbformat": 4,
 "nbformat_minor": 2
}
